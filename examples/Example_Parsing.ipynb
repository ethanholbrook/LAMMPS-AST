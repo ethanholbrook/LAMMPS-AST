{
 "cells": [
  {
   "cell_type": "markdown",
   "id": "5a3e5aff",
   "metadata": {},
   "source": [
    "# LAMMPS Parser Example Notebook\n",
    "\n",
    "This notebook demonstrates how to use the `lammps_parser` package to:\n",
    "- **Sanitize** a LAMMPS script (remove comments, expand loops, resolve variables).\n",
    "- **Parse** the cleaned script into an Abstract Syntax Tree (AST) using Lark.\n",
    "- **Visualize** the parsed structure.\n",
    "\n",
    "## Installation\n",
    "Before using this package, make sure it's installed."
   ]
  },
  {
   "cell_type": "code",
   "execution_count": null,
   "id": "a197fc98",
   "metadata": {},
   "outputs": [],
   "source": [
    "import os\n",
    "from lark.tree import pydot__tree_to_png\n",
    "from IPython.display import Image, display\n",
    "\n",
    "from lammps_ast.parser import parse_to_AST\n",
    "from lammps_ast.sanitizer import sanitize\n",
    "from lammps_ast.comparator import highlight_tree_differences"
   ]
  },
  {
   "cell_type": "markdown",
   "id": "d427ae4d",
   "metadata": {},
   "source": [
    "## Example Script"
   ]
  },
  {
   "cell_type": "code",
   "execution_count": null,
   "id": "10c039c6",
   "metadata": {},
   "outputs": [],
   "source": [
    "sample_script_content = sample_script_content = \"\"\"  \n",
    "# LAMMPS Simulation Input - Needs Sanitization\n",
    "\n",
    "units           metal\n",
    "dimension       3\n",
    "boundary        p p p\n",
    "atom_style      atomic\n",
    "\n",
    "variable       temp equal 300\n",
    "variable       density equal 8.9\n",
    "variable       scale_factor equal ${temp} * 0.5  # Potential issue: temp is undefined at this point\n",
    "\n",
    "lattice        fcc 3.615\n",
    "region         box block 0 10 0 10 0 10\n",
    "create_box     1 box\n",
    "\n",
    "create_atoms   1 box\n",
    "\n",
    "mass           1 58.6934  # Nickel\n",
    "velocity       all create ${temp} 12345 mom yes rot yes dist gaussian\n",
    "\n",
    "# Minimize energy (indentation issue)\n",
    "      minimize 1.0e-4 1.0e-6 1000 10000    \n",
    "\n",
    "fix            1 all nvt temp ${temp} ${temp} 0.1\n",
    "\n",
    "thermo         100\n",
    "dump           1 all custom 100 dump.lammpstrj id type x y z\n",
    "run            5000\n",
    "\"\"\"\n",
    "\n",
    "# Save this script to a temporary file\n",
    "sample_filename = \"sample_lammps_script.lammps\"\n",
    "\n",
    "with open(sample_filename, \"w\") as file:\n",
    "    file.write(sample_script_content)\n",
    "\n",
    "print(f\"Sample script saved as {sample_filename}\")\n"
   ]
  },
  {
   "cell_type": "markdown",
   "id": "041b17b9",
   "metadata": {},
   "source": [
    "## Sanitizing"
   ]
  },
  {
   "cell_type": "code",
   "execution_count": null,
   "id": "1f6faddb",
   "metadata": {},
   "outputs": [],
   "source": [
    "with open(sample_filename, \"r\") as file:\n",
    "    original_script = file.read()\n",
    "\n",
    "cleaned_script = sanitize(original_script)\n",
    "\n",
    "print(\"Sanitized Script:\\n\")\n",
    "print(cleaned_script)"
   ]
  },
  {
   "cell_type": "markdown",
   "id": "a81a9217",
   "metadata": {},
   "source": [
    "## Parsing"
   ]
  },
  {
   "cell_type": "code",
   "execution_count": null,
   "id": "1650dcc7",
   "metadata": {},
   "outputs": [],
   "source": [
    "ast = parse_to_AST(sample_filename)\n",
    "\n",
    "if ast:\n",
    "    print(\"\\nParsed AST:\\n\")\n",
    "    print(ast.pretty())\n",
    "else:\n",
    "    print(\"Parsing failed.\")"
   ]
  },
  {
   "cell_type": "markdown",
   "id": "a9e83e76",
   "metadata": {},
   "source": [
    "## Visualizing"
   ]
  },
  {
   "cell_type": "code",
   "execution_count": null,
   "id": "f1422101",
   "metadata": {},
   "outputs": [],
   "source": [
    "if ast:\n",
    "    ast_image_path = \"ast_visualization.png\"\n",
    "    pydot__tree_to_png(ast, ast_image_path)\n",
    "    display(Image(ast_image_path))"
   ]
  },
  {
   "cell_type": "markdown",
   "id": "f1da4df0",
   "metadata": {},
   "source": [
    "## Comparing"
   ]
  },
  {
   "cell_type": "code",
   "execution_count": null,
   "id": "67b47428",
   "metadata": {},
   "outputs": [],
   "source": [
    "# Sample LAMMPS scripts to compare\n",
    "script1 = \"\"\"  \n",
    "units           metal\n",
    "atom_style      atomic\n",
    "\n",
    "variable        temp equal 300\n",
    "\n",
    "velocity        all create ${temp} 12345 mom yes rot yes\n",
    "\n",
    "fix            1 all nvt temp ${temp} ${temp} 0.1\n",
    "\n",
    "thermo         100\n",
    "run            5000\n",
    "\"\"\"\n",
    "\n",
    "with open(\"sample_lammps_script1.lammps\", \"w\") as file:\n",
    "    file.write(script1)\n",
    "\n",
    "script2 = \"\"\"  \n",
    "units           metal\n",
    "atom_style      atomic\n",
    "\n",
    "variable        temp equal 500  # Different initial temperature\n",
    "velocity        all create ${temp} 54321 mom yes rot yes\n",
    "\n",
    "fix            1 all nve  # Different fix: NVE instead of NVT\n",
    "\n",
    "thermo         50  # More frequent thermo output\n",
    "run            10000  # Longer simulation\n",
    "\"\"\"\n",
    "with open(\"sample_lammps_script2.lammps\", \"w\") as file:\n",
    "    file.write(script2)"
   ]
  },
  {
   "cell_type": "code",
   "execution_count": null,
   "id": "f45fe949",
   "metadata": {},
   "outputs": [],
   "source": [
    "\n",
    "# Parse both scripts into ASTs\n",
    "tree1 = parse_to_AST(\"sample_lammps_script1.lammps\")\n",
    "tree2 = parse_to_AST(\"sample_lammps_script2.lammps\")\n",
    "\n",
    "# Compute and display differences\n",
    "if tree1 and tree2:\n",
    "    print(\"\\n🔍 Tree Comparison Results:\")\n",
    "    highlight_tree_differences(tree1, tree2)\n"
   ]
  },
  {
   "cell_type": "code",
   "execution_count": null,
   "id": "116b51c7",
   "metadata": {},
   "outputs": [],
   "source": []
  }
 ],
 "metadata": {
  "kernelspec": {
   "display_name": "lost",
   "language": "python",
   "name": "python3"
  },
  "language_info": {
   "codemirror_mode": {
    "name": "ipython",
    "version": 3
   },
   "file_extension": ".py",
   "mimetype": "text/x-python",
   "name": "python",
   "nbconvert_exporter": "python",
   "pygments_lexer": "ipython3",
   "version": "3.11.11"
  },
  "toc": {
   "base_numbering": 1,
   "nav_menu": {},
   "number_sections": false,
   "sideBar": true,
   "skip_h1_title": false,
   "title_cell": "Table of Contents",
   "title_sidebar": "Contents",
   "toc_cell": false,
   "toc_position": {},
   "toc_section_display": true,
   "toc_window_display": false
  },
  "varInspector": {
   "cols": {
    "lenName": 16,
    "lenType": 16,
    "lenVar": 40
   },
   "kernels_config": {
    "python": {
     "delete_cmd_postfix": "",
     "delete_cmd_prefix": "del ",
     "library": "var_list.py",
     "varRefreshCmd": "print(var_dic_list())"
    },
    "r": {
     "delete_cmd_postfix": ") ",
     "delete_cmd_prefix": "rm(",
     "library": "var_list.r",
     "varRefreshCmd": "cat(var_dic_list()) "
    }
   },
   "types_to_exclude": [
    "module",
    "function",
    "builtin_function_or_method",
    "instance",
    "_Feature"
   ],
   "window_display": false
  }
 },
 "nbformat": 4,
 "nbformat_minor": 5
}
