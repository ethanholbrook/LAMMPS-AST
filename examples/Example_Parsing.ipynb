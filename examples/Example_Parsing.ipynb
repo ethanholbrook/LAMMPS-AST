{
 "cells": [
  {
   "cell_type": "markdown",
   "id": "5a3e5aff",
   "metadata": {},
   "source": [
    "# LAMMPS Parser Example Notebook\n",
    "\n",
    "This notebook demonstrates how to use the `lammps_parser` package to:\n",
    "- **Sanitize** a LAMMPS script (remove comments, expand loops, resolve variables).\n",
    "- **Parse** the cleaned script into an Abstract Syntax Tree (AST) using Lark.\n",
    "- **Visualize** the parsed structure.\n",
    "\n",
    "## Installation\n",
    "Before using this package, make sure it's installed."
   ]
  },
  {
   "cell_type": "code",
   "execution_count": null,
   "id": "a197fc98",
   "metadata": {},
   "outputs": [],
   "source": [
    "import os\n",
    "from lark.tree import pydot__tree_to_png\n",
    "from IPython.display import Image, display\n",
    "\n",
    "from lammps_ast.parser import parse_to_AST\n",
    "from lammps_ast.sanitizer import sanitize\n",
    "from lammps_ast.tree_comparator import highlight_tree_differences"
   ]
  },
  {
   "cell_type": "markdown",
   "id": "d427ae4d",
   "metadata": {},
   "source": [
    "## Example Script"
   ]
  },
  {
   "cell_type": "code",
   "execution_count": null,
   "id": "10c039c6",
   "metadata": {},
   "outputs": [],
   "source": [
    "sample_script_content = \"\"\"  \n",
    "# Example LAMMPS input script\n",
    "variable x equal 5 * 2\n",
    "variable y equal sqrt(${x})\n",
    "\n",
    "label loop_start\n",
    "variable i loop 3\n",
    "  print \"Iteration ${i}\"\n",
    "  next i\n",
    "jump SELF loop_start\n",
    "\"\"\"\n",
    "\n",
    "# Save this script to a temporary file\n",
    "sample_filename = \"sample_lammps_script.lammps\"\n",
    "\n",
    "with open(sample_filename, \"w\") as file:\n",
    "    file.write(sample_script_content)\n",
    "\n",
    "print(f\"Sample script saved as {sample_filename}\")\n"
   ]
  },
  {
   "cell_type": "markdown",
   "id": "041b17b9",
   "metadata": {},
   "source": [
    "## Sanitizing"
   ]
  },
  {
   "cell_type": "code",
   "execution_count": null,
   "id": "1f6faddb",
   "metadata": {},
   "outputs": [],
   "source": [
    "with open(sample_filename, \"r\") as file:\n",
    "    original_script = file.read()\n",
    "\n",
    "cleaned_script = sanitize(original_script)\n",
    "\n",
    "print(\"Sanitized Script:\\n\")\n",
    "print(cleaned_script)"
   ]
  },
  {
   "cell_type": "markdown",
   "id": "a81a9217",
   "metadata": {},
   "source": [
    "## Parsing"
   ]
  },
  {
   "cell_type": "code",
   "execution_count": null,
   "id": "1650dcc7",
   "metadata": {},
   "outputs": [],
   "source": [
    "ast = parse_to_AST(sample_filename)\n",
    "\n",
    "if ast:\n",
    "    print(\"\\nParsed AST:\\n\")\n",
    "    print(ast.pretty())\n",
    "else:\n",
    "    print(\"Parsing failed.\")"
   ]
  },
  {
   "cell_type": "markdown",
   "id": "a9e83e76",
   "metadata": {},
   "source": [
    "## Visualizing"
   ]
  },
  {
   "cell_type": "code",
   "execution_count": null,
   "id": "f1422101",
   "metadata": {},
   "outputs": [],
   "source": [
    "if ast:\n",
    "    ast_image_path = \"ast_visualization.png\"\n",
    "    pydot__tree_to_png(ast, ast_image_path)\n",
    "    display(Image(ast_image_path))"
   ]
  },
  {
   "cell_type": "markdown",
   "id": "f1da4df0",
   "metadata": {},
   "source": [
    "## Comparing"
   ]
  },
  {
   "cell_type": "code",
   "execution_count": null,
   "id": "67b47428",
   "metadata": {},
   "outputs": [],
   "source": [
    "# Sample LAMMPS scripts to compare\n",
    "script1 = \"\"\"  \n",
    "variable x equal 5 * 2\n",
    "print \"Hello World\"\n",
    "\"\"\"\n",
    "\n",
    "script2 = \"\"\"  \n",
    "variable x equal 10\n",
    "variable y equal sqrt(${x})\n",
    "print \"Hello World\"\n",
    "\"\"\"\n",
    "\n",
    "# Parse both scripts into ASTs\n",
    "tree1 = parse_to_AST(\"sample_lammps_script1.lammps\")\n",
    "tree2 = parse_to_AST(\"sample_lammps_script2.lammps\")\n",
    "\n",
    "# Compute and display differences\n",
    "if tree1 and tree2:\n",
    "    print(\"\\n🔍 Tree Comparison Results:\")\n",
    "    highlight_tree_differences(tree1, tree2)\n"
   ]
  }
 ],
 "metadata": {
  "kernelspec": {
   "display_name": "lost",
   "language": "python",
   "name": "python3"
  },
  "language_info": {
   "codemirror_mode": {
    "name": "ipython",
    "version": 3
   },
   "file_extension": ".py",
   "mimetype": "text/x-python",
   "name": "python",
   "nbconvert_exporter": "python",
   "pygments_lexer": "ipython3",
   "version": "3.10.16"
  },
  "toc": {
   "base_numbering": 1,
   "nav_menu": {},
   "number_sections": false,
   "sideBar": true,
   "skip_h1_title": false,
   "title_cell": "Table of Contents",
   "title_sidebar": "Contents",
   "toc_cell": false,
   "toc_position": {},
   "toc_section_display": true,
   "toc_window_display": false
  },
  "varInspector": {
   "cols": {
    "lenName": 16,
    "lenType": 16,
    "lenVar": 40
   },
   "kernels_config": {
    "python": {
     "delete_cmd_postfix": "",
     "delete_cmd_prefix": "del ",
     "library": "var_list.py",
     "varRefreshCmd": "print(var_dic_list())"
    },
    "r": {
     "delete_cmd_postfix": ") ",
     "delete_cmd_prefix": "rm(",
     "library": "var_list.r",
     "varRefreshCmd": "cat(var_dic_list()) "
    }
   },
   "types_to_exclude": [
    "module",
    "function",
    "builtin_function_or_method",
    "instance",
    "_Feature"
   ],
   "window_display": false
  }
 },
 "nbformat": 4,
 "nbformat_minor": 5
}
