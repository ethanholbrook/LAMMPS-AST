{
 "cells": [
  {
   "cell_type": "code",
   "execution_count": null,
   "id": "5f805a4d",
   "metadata": {
    "ExecuteTime": {
     "end_time": "2025-02-18T19:26:36.478300Z",
     "start_time": "2025-02-18T19:26:36.474706Z"
    }
   },
   "outputs": [],
   "source": [
    "import os\n",
    "import json\n",
    "\n",
    "from lammps_ast.parser import parse_to_AST"
   ]
  },
  {
   "cell_type": "code",
   "execution_count": null,
   "id": "ae5dcd01",
   "metadata": {
    "ExecuteTime": {
     "end_time": "2025-02-18T19:26:36.478300Z",
     "start_time": "2025-02-18T19:26:36.474706Z"
    }
   },
   "outputs": [],
   "source": [
    "scripts_dir = \"generated_scripts/\"\n",
    "parsed_trees_dir = \"parsed_trees/\"\n",
    "\n",
    "os.makedirs(parsed_trees_dir, exist_ok=True)"
   ]
  },
  {
   "cell_type": "code",
   "execution_count": null,
   "id": "ef7362ec",
   "metadata": {
    "ExecuteTime": {
     "end_time": "2025-02-18T19:26:37.402805Z",
     "start_time": "2025-02-18T19:26:37.397433Z"
    }
   },
   "outputs": [],
   "source": [
    "tasks = sorted(next(os.walk(scripts_dir))[1])\n",
    "task_model_map = {}\n",
    "\n",
    "for task in tasks:\n",
    "    task_dir = os.path.join(scripts_dir, task)\n",
    "    models = sorted(next(os.walk(task_dir))[1])  \n",
    "    task_model_map[task] = models\n",
    "\n",
    "# Display detected structure\n",
    "for task, models in task_model_map.items():\n",
    "    print(f\"📂 {task}: {', '.join(models)}\")"
   ]
  },
  {
   "cell_type": "code",
   "execution_count": null,
   "id": "45788706",
   "metadata": {},
   "outputs": [],
   "source": [
    "def save_ast(ast, output_path):\n",
    "    \"\"\"Save the AST as a JSON-like structure for debugging and analysis.\"\"\"\n",
    "    if ast is None:\n",
    "        return\n",
    "    \n",
    "    def tree_to_dict(tree):\n",
    "        \"\"\"Convert Lark Tree to dictionary for JSON storage.\"\"\"\n",
    "        if isinstance(tree, str):\n",
    "            return tree\n",
    "        return {\"type\": tree.data, \"children\": [tree_to_dict(child) for child in tree.children]}\n",
    "\n",
    "    parsed_tree_dict = tree_to_dict(ast)\n",
    "\n",
    "    with open(output_path, \"w\") as f:\n",
    "        json.dump(parsed_tree_dict, f, indent=4)\n",
    "\n",
    "# Process all scripts in each task/model directory\n",
    "for task, models in task_model_map.items():\n",
    "    for model in models:\n",
    "        script_dir = os.path.join(scripts_dir, task, model)\n",
    "        output_dir = os.path.join(parsed_trees_dir, task, model)\n",
    "\n",
    "        os.makedirs(output_dir, exist_ok=True)  # Ensure output folder exists\n",
    "\n",
    "        # Iterate over all Python files in the directory\n",
    "        for script_file in os.listdir(script_dir):\n",
    "            if script_file.endswith(\".in\"):  # Process only Python files\n",
    "                script_path = os.path.join(script_dir, script_file)\n",
    "                output_path = os.path.join(output_dir, f\"{script_file}_ast.json\")\n",
    "                print(f\"-------------------------------------\")\n",
    "                print(f\"Parsing: {script_path}\")\n",
    "                ast = parse_to_AST(script_path)\n",
    "                save_ast(ast, output_path)\n",
    "\n",
    "print(\"\\nAll scripts parsed. ASTs saved in `publications/parsed_trees/`\")\n"
   ]
  },
  {
   "cell_type": "code",
   "execution_count": null,
   "id": "1951580c",
   "metadata": {},
   "outputs": [],
   "source": []
  }
 ],
 "metadata": {
  "kernelspec": {
   "display_name": "test_env",
   "language": "python",
   "name": "python3"
  },
  "language_info": {
   "codemirror_mode": {
    "name": "ipython",
    "version": 3
   },
   "file_extension": ".py",
   "mimetype": "text/x-python",
   "name": "python",
   "nbconvert_exporter": "python",
   "pygments_lexer": "ipython3",
   "version": "3.11.11"
  },
  "toc": {
   "base_numbering": 1,
   "nav_menu": {},
   "number_sections": true,
   "sideBar": true,
   "skip_h1_title": false,
   "title_cell": "Table of Contents",
   "title_sidebar": "Contents",
   "toc_cell": false,
   "toc_position": {},
   "toc_section_display": true,
   "toc_window_display": false
  },
  "varInspector": {
   "cols": {
    "lenName": 16,
    "lenType": 16,
    "lenVar": 40
   },
   "kernels_config": {
    "python": {
     "delete_cmd_postfix": "",
     "delete_cmd_prefix": "del ",
     "library": "var_list.py",
     "varRefreshCmd": "print(var_dic_list())"
    },
    "r": {
     "delete_cmd_postfix": ") ",
     "delete_cmd_prefix": "rm(",
     "library": "var_list.r",
     "varRefreshCmd": "cat(var_dic_list()) "
    }
   },
   "types_to_exclude": [
    "module",
    "function",
    "builtin_function_or_method",
    "instance",
    "_Feature"
   ],
   "window_display": false
  }
 },
 "nbformat": 4,
 "nbformat_minor": 5
}
